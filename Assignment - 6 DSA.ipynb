{
 "cells": [
  {
   "cell_type": "markdown",
   "metadata": {},
   "source": [
    "## Assignment - 6\n",
    "\n",
    "## Question - 2:"
   ]
  },
  {
   "cell_type": "code",
   "execution_count": 1,
   "metadata": {},
   "outputs": [
    {
     "name": "stdout",
     "output_type": "stream",
     "text": [
      "100 10 12 1000\n",
      "12000000\n"
     ]
    }
   ],
   "source": [
    "def multiplyList(myList) :\n",
    "    result = 1\n",
    "    for x in myList:\n",
    "         result = result * x \n",
    "    return result\n",
    "string_list=map(int,input().split())\n",
    "list1=string_list\n",
    "print(multiplyList(list1))"
   ]
  },
  {
   "cell_type": "markdown",
   "metadata": {},
   "source": [
    "## Question - 3:"
   ]
  },
  {
   "cell_type": "code",
   "execution_count": 2,
   "metadata": {},
   "outputs": [
    {
     "name": "stdout",
     "output_type": "stream",
     "text": [
      "-13\n",
      "13\n",
      "0\n"
     ]
    }
   ],
   "source": [
    "class MinStack(object):\n",
    "   min=float('inf')\n",
    "   def __init__(self):\n",
    "      self.min=float('inf')\n",
    "      self.stack = []\n",
    "   def push(self, x):\n",
    "      if x<=self.min:\n",
    "         self.stack.append(self.min)\n",
    "         self.min = x\n",
    "      self.stack.append(x)\n",
    "   def pop(self):\n",
    "      t = self.stack[-1]\n",
    "      self.stack.pop()\n",
    "      if self.min == t:\n",
    "         self.min = self.stack[-1]\n",
    "         self.stack.pop()\n",
    "   def top(self):\n",
    "      return self.stack[-1]\n",
    "   def getMin(self):\n",
    "      return self.min\n",
    "n=MinStack()\n",
    "n.push(0)\n",
    "n.push(13)\n",
    "n.push(-13)\n",
    "print(n.getMin())\n",
    "n.pop()\n",
    "print(n.top())\n",
    "print(n.getMin())"
   ]
  }
 ],
 "metadata": {
  "kernelspec": {
   "display_name": "Python 3",
   "language": "python",
   "name": "python3"
  },
  "language_info": {
   "codemirror_mode": {
    "name": "ipython",
    "version": 3
   },
   "file_extension": ".py",
   "mimetype": "text/x-python",
   "name": "python",
   "nbconvert_exporter": "python",
   "pygments_lexer": "ipython3",
   "version": "3.8.3"
  }
 },
 "nbformat": 4,
 "nbformat_minor": 4
}
